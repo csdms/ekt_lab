{
 "cells": [
  {
   "cell_type": "markdown",
   "metadata": {},
   "source": [
    "# Welcome to EKT Lab Notebooks\n",
    "\n",
    "This page provides links to Jupyter Notebooks and lab instructions that are used in some of the EKT Labs. Detailed information for all EKT labs can be accessed at the [EKT Lab Portal](https://csdms.colorado.edu/wiki/Labs_portal). \n",
    "\n",
    "  * **River Discharge Data Analysis**: [Jupyter Notebook](LoadUSGSDischargeData_UpperColorado.ipynb) / [Lab Info](https://csdms.colorado.edu/wiki/Lab-0012)\n",
    "  \n",
    "  \n",
    "  * **Permafrost Modeling with Ku Model**: [Jupyter Notebook](permafrost_hackathon) / [Lab Info](https://csdms.colorado.edu/wiki/Lab-0017)\n",
    "  \n",
    "  \n",
    "  * **Meandering River Dynamics**: [Jupyter Notebook](meanderpyV2.ipynb) / [Lab Info](https://csdms.colorado.edu/wiki/Lab-0013)\n",
    "\n",
    "\n",
    "  \n"
   ]
  },
  {
   "cell_type": "code",
   "execution_count": null,
   "metadata": {},
   "outputs": [],
   "source": []
  }
 ],
 "metadata": {
  "kernelspec": {
   "display_name": "Python 3",
   "language": "python",
   "name": "python3"
  },
  "language_info": {
   "codemirror_mode": {
    "name": "ipython",
    "version": 3
   },
   "file_extension": ".py",
   "mimetype": "text/x-python",
   "name": "python",
   "nbconvert_exporter": "python",
   "pygments_lexer": "ipython3",
   "version": "3.7.6"
  }
 },
 "nbformat": 4,
 "nbformat_minor": 2
}
